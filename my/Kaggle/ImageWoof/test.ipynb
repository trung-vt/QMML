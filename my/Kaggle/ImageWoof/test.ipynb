{
 "cells": [
  {
   "cell_type": "code",
   "execution_count": 7,
   "metadata": {},
   "outputs": [],
   "source": [
    "# Load pre-trained model and evaluate it on the test set\n",
    "import os\n",
    "import sys\n",
    "import numpy as np\n",
    "\n",
    "import torch\n",
    "import torch.nn as nn\n",
    "import torch.optim as optim\n",
    "import torch.nn.functional as F\n",
    "from torch.utils.data import DataLoader\n",
    "from torchvision import transforms\n",
    "from torchvision.datasets import ImageFolder\n",
    "\n",
    "from torchvision import datasets\n",
    "\n",
    "# import datetime\n",
    "\n",
    "from datetime import datetime\n",
    "\n"
   ]
  },
  {
   "cell_type": "code",
   "execution_count": 12,
   "metadata": {},
   "outputs": [
    {
     "name": "stdout",
     "output_type": "stream",
     "text": [
      "tensor([1.], device='mps:0')\n"
     ]
    }
   ],
   "source": [
    "if torch.backends.mps.is_available():\n",
    "\tdevice = torch.device(\"mps\")\n",
    "\tx = torch.ones(1, device=device)\n",
    "\tprint(x)\n",
    "\n",
    "elif torch.backends.cuda.is_built():\n",
    "\tdevice = torch.device(\"cuda\")\n",
    "\tx = torch.ones(1, device=device)\n",
    "\tprint (x)\n",
    "else:\n",
    "\tdevice = None\n",
    "\tprint (\"MPS device not found.\")"
   ]
  },
  {
   "cell_type": "code",
   "execution_count": 27,
   "metadata": {},
   "outputs": [],
   "source": [
    "# Load the model\n",
    "model_epoch = 18\n",
    "model_path = f\"models/model-20240225-180018/epoch-{model_epoch}/model-{model_epoch}-complete\"\n",
    "\n",
    "reference_model = torch.load(model_path)"
   ]
  },
  {
   "cell_type": "code",
   "execution_count": 28,
   "metadata": {},
   "outputs": [],
   "source": [
    "# Define transformations\n",
    "transformations = transforms.Compose(\n",
    "    [\n",
    "        # TODO: Resize to 256 x 480\n",
    "        # TODO: Scale Augmentation\n",
    "        transforms.Resize((224, 224)),  # Crop to 224 x 224 ?\n",
    "        transforms.ToTensor(),  # Convert to Tensor before numeric manipulation (normalisation)\n",
    "        # TODO: Mean Substraction ?\n",
    "        transforms.Normalize((0.5, 0.5, 0.5), (0.5, 0.5, 0.5))\n",
    "        # Normalise to [0, 1] ?\n",
    "        # TODO: Color Augmentation\n",
    "    ]\n",
    ")"
   ]
  },
  {
   "cell_type": "code",
   "execution_count": 29,
   "metadata": {},
   "outputs": [],
   "source": [
    "def test_predict():\n",
    "    reference_model.eval()  # Set model to evaluation mode\n",
    "\n",
    "    test_dataset = datasets.ImageFolder(\n",
    "        'data/test',\n",
    "        transform=transformations\n",
    "    )\n",
    "    test_dataset_loader = torch.utils.data.DataLoader(\n",
    "        test_dataset, batch_size=64, shuffle=False, num_workers=4\n",
    "    )\n",
    "\n",
    "    counter = 0\n",
    "    sample_idx = 0\n",
    "\n",
    "    current_time = datetime.now().strftime('%Y-%m-%d_%H-%M-%S')\n",
    "\n",
    "    with open(f'submit-{current_time}.csv', 'w') as f:\n",
    "        f.write('ID,prediction\\n')\n",
    "        with torch.no_grad():\n",
    "            for data in test_dataset_loader:\n",
    "\n",
    "                inputs, labels = data\n",
    "\n",
    "                # img_0 = inputs[0]\n",
    "                # plt.imshow(img_0.permute(1, 2, 0))\n",
    "                # plt.axis('off')\n",
    "                # plt.show();\n",
    "\n",
    "                # plt.imshow(img.permute(1, 2, 0))\n",
    "                # plt.show();\n",
    "\n",
    "                inputs, labels = inputs.to(device), labels.to(device)\n",
    "\n",
    "\n",
    "                outputs = reference_model(inputs)\n",
    "                _, predicted = torch.max(outputs.data, 1)\n",
    "                for label in predicted:\n",
    "                    # file_name = test_dataset.samples[label][0].split('/')[-1]\n",
    "                    file_name = test_dataset.samples[sample_idx][0].split('/')[-1]\n",
    "                    sample_idx += 1\n",
    "                    # remove .JPEG\n",
    "                    file_name = file_name[:-5]\n",
    "                    f.write(f'{file_name},{label.item()}\\n')\n",
    "                    # counter += 1\n",
    "                    # if counter == 10:\n",
    "                    #     break\n",
    "                # if counter == 10:\n",
    "                #     break\n",
    "                # print(predicted)\n",
    "                # for label in predicted:\n",
    "                #     print(label.item())\n",
    "                #     print(f'Prediction: {DOG_BREEDS[label.item()][0] + 1}. {DOG_BREEDS[label.item()][1]} ({DOG_BREEDS[label.item()][2]})')\n",
    "                #     if counter == 10:\n",
    "                #         break\n",
    "                #     counter += 1\n",
    "                # if counter == 10:\n",
    "                #     break\n"
   ]
  },
  {
   "cell_type": "code",
   "execution_count": 30,
   "metadata": {},
   "outputs": [],
   "source": [
    "test_predict()"
   ]
  },
  {
   "cell_type": "code",
   "execution_count": null,
   "metadata": {},
   "outputs": [],
   "source": []
  }
 ],
 "metadata": {
  "kernelspec": {
   "display_name": "Python 3",
   "language": "python",
   "name": "python3"
  },
  "language_info": {
   "codemirror_mode": {
    "name": "ipython",
    "version": 3
   },
   "file_extension": ".py",
   "mimetype": "text/x-python",
   "name": "python",
   "nbconvert_exporter": "python",
   "pygments_lexer": "ipython3",
   "version": "3.9.13"
  }
 },
 "nbformat": 4,
 "nbformat_minor": 2
}
