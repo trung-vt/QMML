{
 "cells": [
  {
   "cell_type": "code",
   "execution_count": 169,
   "metadata": {},
   "outputs": [],
   "source": [
    "from sklearn import datasets\n",
    "from sklearn.model_selection import train_test_split\n",
    "import numpy as np\n",
    "from numpy import isclose\n",
    "\n",
    "import matplotlib.pyplot as plt"
   ]
  },
  {
   "cell_type": "code",
   "execution_count": 170,
   "metadata": {},
   "outputs": [
    {
     "name": "stdout",
     "output_type": "stream",
     "text": [
      "<class 'sklearn.utils._bunch.Bunch'>\n"
     ]
    }
   ],
   "source": [
    "data = datasets.load_iris()\n",
    "\n",
    "print(type(data))\n",
    "# print(data)\n",
    "\n",
    "# plt.scatter(data.data, data.target)"
   ]
  },
  {
   "cell_type": "code",
   "execution_count": 171,
   "metadata": {},
   "outputs": [],
   "source": [
    "data = datasets.load_iris()\n",
    "\n",
    "X = data.data\n",
    "y = data.target\n",
    "\n",
    "X_train, X_test, y_train, y_test = train_test_split(\n",
    "    X, y, test_size=0.33, random_state=123\n",
    ")"
   ]
  },
  {
   "cell_type": "code",
   "execution_count": 172,
   "metadata": {},
   "outputs": [
    {
     "data": {
      "text/plain": [
       "array([[6.5, 3.2, 5.1, 2. ],\n",
       "       [5.1, 3.3, 1.7, 0.5],\n",
       "       [4.9, 3.1, 1.5, 0.1],\n",
       "       [6.7, 3.1, 4.7, 1.5],\n",
       "       [6.1, 3. , 4.6, 1.4]])"
      ]
     },
     "execution_count": 172,
     "metadata": {},
     "output_type": "execute_result"
    }
   ],
   "source": [
    "# This is a 2d array of the features of our dataset\n",
    "X_train[:5]"
   ]
  },
  {
   "cell_type": "code",
   "execution_count": 173,
   "metadata": {},
   "outputs": [
    {
     "data": {
      "text/plain": [
       "array([2, 0, 0, 1, 1])"
      ]
     },
     "execution_count": 173,
     "metadata": {},
     "output_type": "execute_result"
    }
   ],
   "source": [
    "y_train[:5]"
   ]
  },
  {
   "cell_type": "code",
   "execution_count": 174,
   "metadata": {},
   "outputs": [],
   "source": [
    "# sample_x_train = data[:10].to_numpy()"
   ]
  },
  {
   "cell_type": "code",
   "execution_count": 175,
   "metadata": {},
   "outputs": [],
   "source": [
    "# Eucledian Distance\n",
    "def euclidean_distance(q, p):\n",
    "    distance = 0\n",
    "    for i in range(len(q)):\n",
    "        distance += (q[i] - p[i])**2\n",
    "\n",
    "    return distance**0.5"
   ]
  },
  {
   "cell_type": "code",
   "execution_count": 176,
   "metadata": {},
   "outputs": [],
   "source": [
    "# Primitive\n",
    "def my_euclidean_distance(q, p) -> float:\n",
    "    assert len(q) == len(p), (\n",
    "        \"Vectors must be of the same length\"\n",
    "    )\n",
    "    distance = 0\n",
    "    for i in range(len(q)):\n",
    "        distance += (q[i] - p[i])**2\n",
    "    return distance**0.5"
   ]
  },
  {
   "cell_type": "code",
   "execution_count": 177,
   "metadata": {},
   "outputs": [],
   "source": [
    "# Switch to np methods\n",
    "def my_euclidean_distance(q, p) -> float:\n",
    "    assert len(q) == len(p), (\n",
    "        \"Vectors must be of the same length\"\n",
    "    )\n",
    "    distance = 0\n",
    "    for i in range(len(q)):\n",
    "        distance += np.square(q[i] - p[i])\n",
    "    return np.sqrt(distance)"
   ]
  },
  {
   "cell_type": "code",
   "execution_count": 178,
   "metadata": {},
   "outputs": [],
   "source": [
    "# Replace for loop with np.sum\n",
    "def my_euclidean_distance(q, p) -> float:\n",
    "    assert len(q) == len(p), (\n",
    "        \"Vectors must be of the same length\"\n",
    "    )\n",
    "    distance = np.sqrt(np.sum(np.square(q - p)))\n",
    "    return distance"
   ]
  },
  {
   "cell_type": "code",
   "execution_count": 179,
   "metadata": {},
   "outputs": [],
   "source": [
    "# Just use np.linalg.norm\n",
    "# np.linalg.norm(p - q)"
   ]
  },
  {
   "cell_type": "code",
   "execution_count": 180,
   "metadata": {},
   "outputs": [
    {
     "name": "stdout",
     "output_type": "stream",
     "text": [
      "5.196152422706632\n",
      "5.196152422706632\n",
      "Yes, they are equal!\n"
     ]
    }
   ],
   "source": [
    "arr1 = np.array([1, 2, 3])\n",
    "arr2 = np.array([4, 5, 6])\n",
    "\n",
    "print(np.linalg.norm(arr1 - arr2))\n",
    "print(my_euclidean_distance(arr1, arr2))\n",
    "assert isclose(np.linalg.norm(arr1 - arr2), my_euclidean_distance(arr1, arr2)), (\n",
    "    \"They are not equal!\"\n",
    ")\n",
    "print(\"Yes, they are equal!\")"
   ]
  },
  {
   "cell_type": "code",
   "execution_count": 181,
   "metadata": {},
   "outputs": [],
   "source": [
    "data = datasets.load_iris()\n",
    "\n",
    "X = data.data[:10]\n",
    "y = data.target[:10]\n",
    "\n",
    "X_train, X_test, y_train, y_test = train_test_split(\n",
    "    X, y, test_size=0.33, random_state=123\n",
    ")"
   ]
  },
  {
   "cell_type": "code",
   "execution_count": 182,
   "metadata": {},
   "outputs": [
    {
     "data": {
      "text/plain": [
       "array([[4.4, 2.9, 1.4, 0.2],\n",
       "       [4.6, 3.1, 1.5, 0.2],\n",
       "       [4.9, 3. , 1.4, 0.2],\n",
       "       [4.6, 3.4, 1.4, 0.3],\n",
       "       [4.9, 3.1, 1.5, 0.1],\n",
       "       [4.7, 3.2, 1.3, 0.2]])"
      ]
     },
     "execution_count": 182,
     "metadata": {},
     "output_type": "execute_result"
    }
   ],
   "source": [
    "X_train"
   ]
  },
  {
   "cell_type": "code",
   "execution_count": 183,
   "metadata": {},
   "outputs": [
    {
     "data": {
      "text/plain": [
       "array([[5. , 3.6, 1.4, 0.2],\n",
       "       [5.1, 3.5, 1.4, 0.2],\n",
       "       [5. , 3.4, 1.5, 0.2],\n",
       "       [5.4, 3.9, 1.7, 0.4]])"
      ]
     },
     "execution_count": 183,
     "metadata": {},
     "output_type": "execute_result"
    }
   ],
   "source": [
    "X_test"
   ]
  },
  {
   "cell_type": "code",
   "execution_count": 184,
   "metadata": {},
   "outputs": [
    {
     "data": {
      "text/plain": [
       "array([0, 0, 0, 0, 0, 0])"
      ]
     },
     "execution_count": 184,
     "metadata": {},
     "output_type": "execute_result"
    }
   ],
   "source": [
    "y_train"
   ]
  },
  {
   "cell_type": "code",
   "execution_count": 185,
   "metadata": {},
   "outputs": [
    {
     "data": {
      "text/plain": [
       "array([0, 0, 0, 0])"
      ]
     },
     "execution_count": 185,
     "metadata": {},
     "output_type": "execute_result"
    }
   ],
   "source": [
    "y_test"
   ]
  },
  {
   "cell_type": "code",
   "execution_count": 186,
   "metadata": {},
   "outputs": [
    {
     "name": "stdout",
     "output_type": "stream",
     "text": [
      "Test vector 0: [0.92 0.65 0.61 0.46 0.53 0.51]\n",
      "Test vector 1: [0.92 0.65 0.54 0.52 0.47 0.51]\n",
      "Test vector 2: [0.79 0.5  0.42 0.42 0.33 0.41]\n",
      "Test vector 3: [1.46 1.17 1.09 0.99 1.01 1.09]\n"
     ]
    }
   ],
   "source": [
    "distance = np.zeros((len(X_test), len(X_train)))\n",
    "\n",
    "for i_test, X_test_vector in enumerate(X_test):\n",
    "    for i_train, X_train_vector in enumerate(X_train):\n",
    "        distance[i_test][i_train] = my_euclidean_distance(\n",
    "            X_test_vector, X_train_vector\n",
    "        )\n",
    "    print(f\"Test vector {i_test}: {np.round(distance[i_test], 2)}\")\n",
    "\n",
    "# print(np.round(distance, 2))"
   ]
  },
  {
   "cell_type": "code",
   "execution_count": 187,
   "metadata": {},
   "outputs": [
    {
     "name": "stdout",
     "output_type": "stream",
     "text": [
      "[[0.92 0.65 0.61 0.46 0.53 0.51]\n",
      " [0.92 0.65 0.54 0.52 0.47 0.51]\n",
      " [0.79 0.5  0.42 0.42 0.33 0.41]\n",
      " [1.46 1.17 1.09 0.99 1.01 1.09]]\n"
     ]
    }
   ],
   "source": [
    "# for every vector in X_test:\n",
    "#     calculate the distance between that vector and all known data points in X_train\n",
    "\n",
    "distance = np.zeros((len(X_test), len(X_train)))\n",
    "\n",
    "for i_test, X_test_vector in enumerate(X_test):\n",
    "    for i_train, X_train_vector in enumerate(X_train):\n",
    "        distance[i_test][i_train] = my_euclidean_distance(\n",
    "            X_test_vector, X_train_vector\n",
    "        )\n",
    "\n",
    "print(np.round(distance, 2))"
   ]
  },
  {
   "cell_type": "code",
   "execution_count": null,
   "metadata": {},
   "outputs": [],
   "source": []
  },
  {
   "cell_type": "code",
   "execution_count": 188,
   "metadata": {},
   "outputs": [
    {
     "name": "stdout",
     "output_type": "stream",
     "text": [
      "[[0.92 0.65 0.61 0.46 0.53 0.51]\n",
      " [0.92 0.65 0.54 0.52 0.47 0.51]\n",
      " [0.79 0.5  0.42 0.42 0.33 0.41]\n",
      " [1.46 1.17 1.09 0.99 1.01 1.09]]\n"
     ]
    }
   ],
   "source": [
    "# for every vector in X_test:\n",
    "#     calculate the distance between that vector and all known data points in X_train\n",
    "\n",
    "distance = np.zeros((len(X_test), len(X_train)))\n",
    "\n",
    "for i_test, X_test_vector in enumerate(X_test):\n",
    "    for i_train, X_train_vector in enumerate(X_train):\n",
    "        distance[i_test][i_train] = np.linalg.norm(\n",
    "            X_test_vector - X_train_vector\n",
    "        )\n",
    "\n",
    "print(np.round(distance, 2))"
   ]
  },
  {
   "cell_type": "code",
   "execution_count": 189,
   "metadata": {},
   "outputs": [
    {
     "data": {
      "text/plain": [
       "array([[5. , 3.6, 1.4, 0.2],\n",
       "       [5.1, 3.5, 1.4, 0.2],\n",
       "       [5. , 3.4, 1.5, 0.2],\n",
       "       [5.4, 3.9, 1.7, 0.4]])"
      ]
     },
     "execution_count": 189,
     "metadata": {},
     "output_type": "execute_result"
    }
   ],
   "source": [
    "X_test"
   ]
  },
  {
   "cell_type": "code",
   "execution_count": 190,
   "metadata": {},
   "outputs": [
    {
     "data": {
      "text/plain": [
       "array([[25.  , 12.96,  1.96,  0.04],\n",
       "       [26.01, 12.25,  1.96,  0.04],\n",
       "       [25.  , 11.56,  2.25,  0.04],\n",
       "       [29.16, 15.21,  2.89,  0.16]])"
      ]
     },
     "execution_count": 190,
     "metadata": {},
     "output_type": "execute_result"
    }
   ],
   "source": [
    "X_test**2"
   ]
  },
  {
   "cell_type": "code",
   "execution_count": 191,
   "metadata": {},
   "outputs": [
    {
     "data": {
      "text/plain": [
       "array([[596.8368, 657.9572, 720.7332, 682.6628, 729.206 , 688.2744],\n",
       "       [610.4193, 672.5057, 738.5933, 695.8268, 746.633 , 703.3149],\n",
       "       [585.6312, 645.1557, 708.7016, 667.0472, 716.4045, 674.4285],\n",
       "       [698.1245, 769.7026, 842.6924, 798.532 , 852.8038, 804.7853]])"
      ]
     },
     "execution_count": 191,
     "metadata": {},
     "output_type": "execute_result"
    }
   ],
   "source": [
    "np.dot(X_test**2, X_train.T**2)"
   ]
  },
  {
   "cell_type": "code",
   "execution_count": 192,
   "metadata": {},
   "outputs": [
    {
     "data": {
      "text/plain": [
       "array([[2676.7033, 2259.4318, 1427.3821,  906.9782],\n",
       "       [3018.5313, 2525.8435, 1627.1936, 1082.7137],\n",
       "       [3177.9102, 2653.7591, 1717.7932, 1164.2839],\n",
       "       [2838.2391, 2389.7233, 1525.1564,  995.2944]])"
      ]
     },
     "execution_count": 192,
     "metadata": {},
     "output_type": "execute_result"
    }
   ],
   "source": [
    "from scipy.ndimage import convolve\n",
    "convolve(X_test**2, X_train.T**2)\n"
   ]
  }
 ],
 "metadata": {
  "kernelspec": {
   "display_name": "Python 3",
   "language": "python",
   "name": "python3"
  },
  "language_info": {
   "codemirror_mode": {
    "name": "ipython",
    "version": 3
   },
   "file_extension": ".py",
   "mimetype": "text/x-python",
   "name": "python",
   "nbconvert_exporter": "python",
   "pygments_lexer": "ipython3",
   "version": "3.9.13"
  }
 },
 "nbformat": 4,
 "nbformat_minor": 2
}
