{
 "cells": [
  {
   "cell_type": "code",
   "execution_count": 2,
   "metadata": {},
   "outputs": [],
   "source": [
    "import torch\n",
    "\n",
    "import time"
   ]
  },
  {
   "cell_type": "code",
   "execution_count": 5,
   "metadata": {},
   "outputs": [],
   "source": [
    "# help(torch.nn.Conv3d)\n",
    "# #  |  Conv3d(\n",
    "# # in_channels: int,\n",
    "# # out_channels: int,\n",
    "# # kernel_size: Union[int, Tuple[int, int, int]],\n",
    "# # stride: Union[int, Tuple[int, int, int]] = 1, padding: Union[str, int, Tuple[int, int, int]] = 0, dilation: Union[int, Tuple[int, int, int]] = 1, groups: int = 1, bias: bool = True, padding_mode: str = 'zeros', device=None, dtype=None) -> None\n",
    "\n",
    "#         # self,\n",
    "#         # in_channels: int,\n",
    "#         # out_channels: int,\n",
    "#         # kernel_size: _size_3_t,\n",
    "#         # stride: _size_3_t = 1,\n",
    "#         # padding: Union[str, _size_3_t] = 0,\n",
    "#         # dilation: _size_3_t = 1,\n",
    "#         # groups: int = 1,\n",
    "#         # bias: bool = True,\n",
    "#         # padding_mode: str = 'zeros',\n",
    "#         # device=None,\n",
    "#         # dtype=None"
   ]
  },
  {
   "cell_type": "code",
   "execution_count": 3,
   "metadata": {},
   "outputs": [
    {
     "ename": "TypeError",
     "evalue": "'int' object is not iterable",
     "output_type": "error",
     "traceback": [
      "\u001b[0;31m---------------------------------------------------------------------------\u001b[0m",
      "\u001b[0;31mTypeError\u001b[0m                                 Traceback (most recent call last)",
      "\u001b[1;32m/Users/t/Documents/GIT/ML Soc/QMML/my/Lesson 13/alexnet_me.ipynb Cell 2\u001b[0m line \u001b[0;36m3\n\u001b[1;32m      <a href='vscode-notebook-cell:/Users/t/Documents/GIT/ML%20Soc/QMML/my/Lesson%2013/alexnet_me.ipynb#W1sZmlsZQ%3D%3D?line=0'>1</a>\u001b[0m NUM_EPOCHS \u001b[39m=\u001b[39m \u001b[39m10\u001b[39m\n\u001b[0;32m----> <a href='vscode-notebook-cell:/Users/t/Documents/GIT/ML%20Soc/QMML/my/Lesson%2013/alexnet_me.ipynb#W1sZmlsZQ%3D%3D?line=2'>3</a>\u001b[0m \u001b[39mfor\u001b[39;00m epoch_idx \u001b[39min\u001b[39;00m NUM_EPOCHS:\n\u001b[1;32m      <a href='vscode-notebook-cell:/Users/t/Documents/GIT/ML%20Soc/QMML/my/Lesson%2013/alexnet_me.ipynb#W1sZmlsZQ%3D%3D?line=3'>4</a>\u001b[0m     \u001b[39mprint\u001b[39m(\u001b[39mf\u001b[39m\u001b[39m\"\u001b[39m\u001b[39mEpoch \u001b[39m\u001b[39m{\u001b[39;00mepoch_idx \u001b[39m+\u001b[39m \u001b[39m1\u001b[39m\u001b[39m}\u001b[39;00m\u001b[39m starts...\u001b[39m\u001b[39m\"\u001b[39m)\n\u001b[1;32m      <a href='vscode-notebook-cell:/Users/t/Documents/GIT/ML%20Soc/QMML/my/Lesson%2013/alexnet_me.ipynb#W1sZmlsZQ%3D%3D?line=4'>5</a>\u001b[0m     start_time \u001b[39m=\u001b[39m time\u001b[39m.\u001b[39mtime()\n",
      "\u001b[0;31mTypeError\u001b[0m: 'int' object is not iterable"
     ]
    }
   ],
   "source": [
    "NUM_EPOCHS = 35\n",
    "\n",
    "# The ﬁrst convolutional layer ﬁlters the 224 × 224 × 3 input image\n",
    "# with 96 kernels of size 11 × 11 × 3 with a stride of 4 pixels\n",
    "\n",
    "# the input has 3 channels (like an RGB image)\n",
    "input_channels = 3  # Number of input channels (RGB image has 3)\n",
    "output_channels = 96  # Number of kernels\n",
    "kernel_size = 11  # Size of each kernel\n",
    "stride = 4  # Stride of the convolution\n",
    "\n",
    "model = torch.nn.Sequential(\n",
    "    # First layer: 96 kernels, size 11 × 11 × 3, stride = 4 pixels\n",
    "    torch.nn.Conv3d(1, 32, kernel_size=(11, 11, 3), stride=4, padding=0),\n",
    ")\n",
    "\n",
    "for epoch_idx in range(NUM_EPOCHS):\n",
    "    print(f\"Epoch {epoch_idx + 1} starts...\")\n",
    "    start_time = time.time()\n",
    "\n",
    "    model.train()"
   ]
  },
  {
   "cell_type": "code",
   "execution_count": null,
   "metadata": {},
   "outputs": [],
   "source": []
  }
 ],
 "metadata": {
  "kernelspec": {
   "display_name": "Python 3",
   "language": "python",
   "name": "python3"
  },
  "language_info": {
   "codemirror_mode": {
    "name": "ipython",
    "version": 3
   },
   "file_extension": ".py",
   "mimetype": "text/x-python",
   "name": "python",
   "nbconvert_exporter": "python",
   "pygments_lexer": "ipython3",
   "version": "3.9.13"
  }
 },
 "nbformat": 4,
 "nbformat_minor": 2
}
